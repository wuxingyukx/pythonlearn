{
 "cells": [
  {
   "cell_type": "code",
   "execution_count": 4,
   "metadata": {},
   "outputs": [
    {
     "name": "stdout",
     "output_type": "stream",
     "text": [
      "Got a message: hello world\n"
     ]
    }
   ],
   "source": [
    "# \n",
    "# 1 函数赋值给变量\n",
    "def func(message):\n",
    "    print(\"Got a message: {}\".format(message))\n",
    "\n",
    "send_message = func\n",
    "send_message(\"hello world\")\n"
   ]
  },
  {
   "cell_type": "code",
   "execution_count": 5,
   "metadata": {},
   "outputs": [
    {
     "name": "stdout",
     "output_type": "stream",
     "text": [
      "Got a message: hello world\n"
     ]
    }
   ],
   "source": [
    "# 2 函数作为参数\n",
    "def get_message(message):\n",
    "    return \"Got a message: {}\".format(message)\n",
    "\n",
    "def root_call(func, message):\n",
    "    print(func(message))\n",
    "    \n",
    "root_call(get_message, \"hello world\")\n"
   ]
  },
  {
   "cell_type": "code",
   "execution_count": 6,
   "metadata": {},
   "outputs": [
    {
     "name": "stdout",
     "output_type": "stream",
     "text": [
      "Got a message:hello world \n"
     ]
    }
   ],
   "source": [
    "# 3 函数里面定义函数，也就是函数嵌套\n",
    "def func(message):\n",
    "    def get_message(message):\n",
    "        print(\"Got a message:{} \".format(message))\n",
    "    return get_message(message)\n",
    "\n",
    "func(\"hello world\")"
   ]
  },
  {
   "cell_type": "code",
   "execution_count": 3,
   "metadata": {},
   "outputs": [
    {
     "name": "stdout",
     "output_type": "stream",
     "text": [
      "Got a message: hello world\n"
     ]
    }
   ],
   "source": [
    "# 4 函数的返回值也可以是函数对象（闭包）\n",
    "def func_closure():\n",
    "    def get_message(message):\n",
    "        print('Got a message: {}'.format(message))\n",
    "    return get_message\n",
    "\n",
    "send_message = func_closure()\n",
    "send_message('hello world')"
   ]
  },
  {
   "cell_type": "code",
   "execution_count": 8,
   "metadata": {},
   "outputs": [
    {
     "name": "stdout",
     "output_type": "stream",
     "text": [
      "wrapper of decorator\n",
      "hello world\n"
     ]
    }
   ],
   "source": [
    "# 一、函数装饰器\n",
    "# 1、简单的装饰器\n",
    "def my_decorator(func):\n",
    "    def wrapper():\n",
    "        print(\"wrapper of decorator\")\n",
    "        func()\n",
    "    return wrapper\n",
    "\n",
    "def greet():\n",
    "    print(\"hello world\")\n",
    "\n",
    "greet = my_decorator(greet)\n",
    "greet()\n"
   ]
  },
  {
   "cell_type": "code",
   "execution_count": 9,
   "metadata": {},
   "outputs": [
    {
     "name": "stdout",
     "output_type": "stream",
     "text": [
      "wrapper of decorator\n",
      "hello world\n"
     ]
    }
   ],
   "source": [
    "# 2、更简单、更优雅的表示\n",
    "def my_decorator(func):\n",
    "    def wrapper():\n",
    "        print('wrapper of decorator')\n",
    "        func()\n",
    "    return wrapper\n",
    "\n",
    "@my_decorator\n",
    "def greet():\n",
    "    print('hello world')\n",
    "\n",
    "greet()"
   ]
  },
  {
   "cell_type": "code",
   "execution_count": 10,
   "metadata": {},
   "outputs": [
    {
     "name": "stdout",
     "output_type": "stream",
     "text": [
      "wrapper of decorator\n",
      "hello world\n"
     ]
    }
   ],
   "source": [
    "# 3、带参数的装饰器\n",
    "def my_decorator(func):\n",
    "    def wrapper(*args, **kwargs):\n",
    "        print('wrapper of decorator')\n",
    "        func(*args, **kwargs)\n",
    "    return wrapper\n",
    "\n",
    "@my_decorator\n",
    "def greet(message):\n",
    "    print(message)\n",
    "\n",
    "greet(\"hello world\")\n"
   ]
  },
  {
   "cell_type": "code",
   "execution_count": 3,
   "metadata": {},
   "outputs": [
    {
     "name": "stdout",
     "output_type": "stream",
     "text": [
      "wrapper of decorator\n",
      "hello world\n",
      "wrapper of decorator\n",
      "hello world\n",
      "wrapper of decorator\n",
      "hello world\n"
     ]
    }
   ],
   "source": [
    "# 4、带有自定义参数的装饰器\n",
    "def repeat(num):\n",
    "    def my_decorator(func):\n",
    "        def wrapper(*args, **kwargs):\n",
    "            for i in range(num):\n",
    "                print('wrapper of decorator')\n",
    "                func(*args, **kwargs)\n",
    "        return wrapper\n",
    "    return my_decorator\n",
    "\n",
    "@repeat(3)\n",
    "def greet(message):\n",
    "    print(message)\n",
    "\n",
    "greet(\"hello world\")\n",
    "\n"
   ]
  },
  {
   "cell_type": "code",
   "execution_count": 57,
   "metadata": {},
   "outputs": [
    {
     "name": "stdout",
     "output_type": "stream",
     "text": [
      "Help on function greet in module __main__:\n",
      "\n",
      "greet(message)\n",
      "\n"
     ]
    }
   ],
   "source": [
    "# 5、保留原函数信息\n",
    "greet.__name__\n",
    "help(greet)"
   ]
  },
  {
   "cell_type": "code",
   "execution_count": 6,
   "metadata": {},
   "outputs": [
    {
     "data": {
      "text/plain": [
       "'greet'"
      ]
     },
     "execution_count": 6,
     "metadata": {},
     "output_type": "execute_result"
    }
   ],
   "source": [
    "# 原函数还是原函数吗？\n",
    "# 函数名称变化，使用内置的装饰器@functools.wrap\n",
    "# 它会帮助保留原函数的元信息（也就是将原函数的元信息，拷贝到对应的装饰器函数里）\n",
    "\n",
    "import functools\n",
    "\n",
    "def my_decorator(func):\n",
    "    @functools.wraps(func)\n",
    "    def wrapper(*args, **kwargs):\n",
    "        print('wrapper of decorator')\n",
    "        func(*args, **kwargs)\n",
    "    return wrapper\n",
    "    \n",
    "@my_decorator\n",
    "def greet(message):\n",
    "    print(message)\n",
    "\n",
    "greet.__name__"
   ]
  },
  {
   "cell_type": "code",
   "execution_count": 58,
   "metadata": {},
   "outputs": [
    {
     "name": "stdout",
     "output_type": "stream",
     "text": [
      "hello world\n"
     ]
    }
   ],
   "source": [
    "# 二、类装饰器， \n",
    "# 类装饰器主要依赖于函数__call__()，\n",
    "# 每当你调用一个类的示例时，\n",
    "# 函数__call__()就会被执行一次。\n",
    "\n",
    "# 1、最简单的\n",
    "class Count():\n",
    "    def __init__(self, func):\n",
    "        self.func = func\n",
    "        \n",
    "    def __call__(self):\n",
    "        return self.func()\n",
    "\n",
    "def example():\n",
    "    print(\"hello world\")\n",
    "\n",
    "example = Count(example)\n",
    "example()\n",
    "    "
   ]
  },
  {
   "cell_type": "code",
   "execution_count": 59,
   "metadata": {},
   "outputs": [
    {
     "name": "stdout",
     "output_type": "stream",
     "text": [
      "hello world\n"
     ]
    }
   ],
   "source": [
    "# 2 优雅的表示\n",
    "\n",
    "class Count():\n",
    "    def __init__(self, func):\n",
    "        self.func = func\n",
    "        \n",
    "    def __call__(self):\n",
    "        return self.func()\n",
    "@Count\n",
    "def example():\n",
    "    print(\"hello world\")\n",
    "\n",
    "example()"
   ]
  },
  {
   "cell_type": "code",
   "execution_count": 61,
   "metadata": {},
   "outputs": [
    {
     "name": "stdout",
     "output_type": "stream",
     "text": [
      "hello world\n"
     ]
    }
   ],
   "source": [
    "# 3、带参数的\n",
    "\n",
    "class Count():\n",
    "    def __init__(self, func):\n",
    "        self.func = func\n",
    "        \n",
    "    def __call__(self, *args, **kwargs):\n",
    "        return self.func(*args, **kwargs)\n",
    "    \n",
    "@Count\n",
    "def example(message):\n",
    "    print(message)\n",
    "\n",
    "example(\"hello world\")"
   ]
  },
  {
   "cell_type": "code",
   "execution_count": 73,
   "metadata": {},
   "outputs": [
    {
     "name": "stdout",
     "output_type": "stream",
     "text": [
      "hello world\n",
      "hello world\n",
      "hello world\n"
     ]
    }
   ],
   "source": [
    "# 4、带自定义参数的\n",
    "# 这个时候就要需要改变了\n",
    "\n",
    "class Count():\n",
    "    def __init__(self, num):\n",
    "        self.num = num\n",
    "        \n",
    "    def __call__(self, func):\n",
    "        def wrapper(*args, **kwargs):\n",
    "            for i in range(self.num):\n",
    "                func(*args, **kwargs)\n",
    "        return wrapper\n",
    "    \n",
    "@Count(3)\n",
    "def example(message):\n",
    "    print(message)\n",
    "\n",
    "example(\"hello world\")"
   ]
  },
  {
   "cell_type": "code",
   "execution_count": 76,
   "metadata": {},
   "outputs": [
    {
     "name": "stdout",
     "output_type": "stream",
     "text": [
      "hello world\n",
      "hello world\n",
      "hello world\n"
     ]
    },
    {
     "data": {
      "text/plain": [
       "'example'"
      ]
     },
     "execution_count": 76,
     "metadata": {},
     "output_type": "execute_result"
    }
   ],
   "source": [
    "# 5、不改变原函数信息\n",
    "\n",
    "import functools \n",
    "\n",
    "class Count():\n",
    "    def __init__(self, num):\n",
    "        self.num = num\n",
    "        \n",
    "    def __call__(self, func):\n",
    "        @functools.wraps(func)\n",
    "        def wrapper(*args, **kwargs):\n",
    "            for i in range(self.num):\n",
    "                func(*args, **kwargs)\n",
    "        return wrapper\n",
    "    \n",
    "@Count(3)\n",
    "def example(message):\n",
    "    print(message)\n",
    "\n",
    "example(\"hello world\")\n",
    "example.__name__"
   ]
  },
  {
   "cell_type": "code",
   "execution_count": 75,
   "metadata": {},
   "outputs": [
    {
     "name": "stderr",
     "output_type": "stream",
     "text": [
      "2021-03-01 11:01:51,704 - __main__ - INFO - test log\n"
     ]
    },
    {
     "name": "stdout",
     "output_type": "stream",
     "text": [
      "11111\n"
     ]
    },
    {
     "data": {
      "text/plain": [
       "'myfun'"
      ]
     },
     "execution_count": 75,
     "metadata": {},
     "output_type": "execute_result"
    }
   ],
   "source": [
    "# 参考测试代码\n",
    "from functools import wraps\n",
    "import logging\n",
    "\n",
    "class logit(object):\n",
    "    def __init__(self, logger):\n",
    "        self.logger = logger\n",
    "\n",
    "    def __call__(self, func):\n",
    "        @wraps(func)\n",
    "        def wrapped_function(*args, **kwargs):\n",
    "            try:\n",
    "                self.logger.info(\"test log\")\n",
    "                return func(*args, **kwargs)\n",
    "            except Exception as e:\n",
    "                self.logger.error(func.__name__ + 'error message')\n",
    "                self.notify()\n",
    "                return false\n",
    "        return wrapped_function\n",
    "\n",
    "    def notify(self):\n",
    "        pass\n",
    "    \n",
    "logging.basicConfig(level = logging.INFO,format = '%(asctime)s - %(name)s - %(levelname)s - %(message)s')\n",
    "logger = logging.getLogger(__name__)\n",
    "\n",
    "@logit(logger)\n",
    "def myfun():\n",
    "    print(\"11111\")\n",
    "    \n",
    "myfun()\n",
    "myfun.__name__"
   ]
  },
  {
   "cell_type": "code",
   "execution_count": null,
   "metadata": {},
   "outputs": [],
   "source": [
    "# 三、装饰器嵌套\n",
    "\n",
    "@decorator1\n",
    "@decorator2\n",
    "@decorator3\n",
    "def func():\n",
    "    ...\n",
    "# 它的执行顺序从里到外，所以上面的语句也等效于下面这行代码\n",
    "decorator1(decorator2(decorator3(func)))"
   ]
  },
  {
   "cell_type": "code",
   "execution_count": null,
   "metadata": {},
   "outputs": [],
   "source": [
    "# 四、装饰器用法实例\n",
    "# 1、身份认证\n",
    "# 2、日志记录\n",
    "# 3、输入合理性检查\n",
    "# 4、缓存"
   ]
  },
  {
   "cell_type": "code",
   "execution_count": null,
   "metadata": {},
   "outputs": [],
   "source": [
    "\n",
    "# 五、总结 \n",
    "# 所谓的装饰器，其实就是通过装饰器函数，\n",
    "# 来修改原函数的一些功能，使得原函数不需要修改"
   ]
  }
 ],
 "metadata": {
  "kernelspec": {
   "display_name": "Python 3",
   "language": "python",
   "name": "python3"
  },
  "language_info": {
   "codemirror_mode": {
    "name": "ipython",
    "version": 3
   },
   "file_extension": ".py",
   "mimetype": "text/x-python",
   "name": "python",
   "nbconvert_exporter": "python",
   "pygments_lexer": "ipython3",
   "version": "3.8.5"
  }
 },
 "nbformat": 4,
 "nbformat_minor": 1
}
