{
 "cells": [
  {
   "cell_type": "code",
   "execution_count": 20,
   "outputs": [
    {
     "name": "stdout",
     "output_type": "stream",
     "text": [
      "[1, 4, 9, 16, 25]\n",
      "[1, 4, 9, 16, 25]\n"
     ]
    }
   ],
   "source": [
    "# map\n",
    "\n",
    "# map映射\n",
    "# map()方法会将 一个函数 映射到序列的每一个元素上，生成新序列，包含所有函数返回值。\n",
    "# 也就是说序列里每一个元素都被当做x变量，放到一个函数f(x)里，\n",
    "# 其结果是f(x1)、f(x2)、f(x3)......组成的新序列。\n",
    "\n",
    "# map(function_to_apply, list_of_inputs)\n",
    "# function_to_apply：代表函数\n",
    "# list_of_inputs：代表输入序列\n",
    "# 注意：python3中 map函数返回的是迭代器\n",
    "\n",
    "# 大多数时候，我们要把列表中所有元素一个个地传递给一个函数，并收集输出。\n",
    "\n",
    "items = [1, 2, 3, 4, 5] # 列表\n",
    "squared = []\n",
    "for i in items:\n",
    "    squared.append(i**2)\n",
    "\n",
    "# map函数可以让我们用一种简单而漂亮得多的方式来实现：\n",
    "items = [1, 2, 3, 4, 5]\n",
    "squared = list(map(lambda x: x**2, items))\n",
    "print(squared)\n",
    "\n",
    "#上面使用了匿名函数，也可以自定义函数\n",
    "items = [1, 2, 3, 4, 5]\n",
    "def f(x):\n",
    "    return x**2\n",
    "squared = list(map(f, items))\n",
    "print(squared)"
   ],
   "metadata": {
    "collapsed": false,
    "pycharm": {
     "name": "#%%\n"
    }
   }
  },
  {
   "cell_type": "code",
   "execution_count": 18,
   "outputs": [
    {
     "name": "stdout",
     "output_type": "stream",
     "text": [
      "15\n"
     ]
    }
   ],
   "source": [
    "# reduce\n",
    "\n",
    "# reduce相比map稍复杂点\n",
    "# reduce的工作过程是 ：在迭代序列的过程中，首先把 前两个元素（只能两个）传给 函数，\n",
    "# 函数加工后，然后把 得到的结果和第三个元素 作为两个参数传给函数参数，\n",
    "# 函数加工后得到的结果又和第四个元素 作为两个参数传给函数参数，依次类推。\n",
    "\n",
    "# reduce函数怎么用？\n",
    "# reduce(function, iterable[, initializer])\n",
    "# function：代表函数\n",
    "# iterable：序列\n",
    "# initializer：初始值（可选）\n",
    "\n",
    "# 与map不同，reduce不可以直接使用，需要用from functools import reduce导入\n",
    "from functools import reduce\n",
    "\n",
    "# 比如说我要求10的阶乘，就可以用reduce做：\n",
    "\n",
    "# 定义函数\n",
    "def f(x,y):\n",
    "    return x*y\n",
    "\n",
    "# 定义序列，含1~10的元素\n",
    "items = range(1, 11)\n",
    "\n",
    "# 使用reduce方法\n",
    "result = reduce(f, items)\n",
    "print(result)\n"
   ],
   "metadata": {
    "collapsed": false,
    "pycharm": {
     "name": "#%%\n"
    }
   }
  }
 ],
 "metadata": {
  "kernelspec": {
   "display_name": "Python 3",
   "language": "python",
   "name": "python3"
  },
  "language_info": {
   "codemirror_mode": {
    "name": "ipython",
    "version": 2
   },
   "file_extension": ".py",
   "mimetype": "text/x-python",
   "name": "python",
   "nbconvert_exporter": "python",
   "pygments_lexer": "ipython2",
   "version": "2.7.6"
  }
 },
 "nbformat": 4,
 "nbformat_minor": 0
}